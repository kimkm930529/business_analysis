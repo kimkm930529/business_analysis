{
 "cells": [
  {
   "cell_type": "markdown",
   "id": "36253ad7",
   "metadata": {},
   "source": [
    "# 무신사 인기브랜드 크롤러 개발하기\n",
    "---\n",
    "### 1. 필수 라이브러리 설치하기\n",
    "#### (1) request 라이브러리 설치\n",
    "- Anaconda Cloud의 작은 브라우저 역할을 하게됨\n",
    "- 특정 웹사이트에서 html에서 소스코드를 그대로 가져와서 반환해주는 역할을 하게됨\n",
    "- `conda install -c anaconda requests`\n",
    "\n",
    "#### (2) BeautifulSoup 라이브러리 설치\n",
    "- html 페이지에서 원하는 형태를 찾는 것에 도움이 됨\n",
    "- `conda install -c anaconda beautifulsoup4`\n",
    "\n",
    "#### (3) tqdm 라이브러리 설치\n",
    "- 작업에 대한 상태를 확인할 때 유용\n",
    "- `conda install -c conda-forge tqdm`\n",
    "\n",
    "#### 윈도우에서 conda 라이브러리를 통해 위 항목을 설치하도록 한다.\n",
    "- 아나콘다 prompt를 열어주는데, 설치할 때 관리자권한으로 설치하는 것을 권장\n",
    "- Anaconda Prompt를 관리자 권한으로 실행해야함\n",
    "- 새로운 가상환경을 만들지 않았다면 (base)라는 문구가 터미널에서 보여야 정상"
   ]
  },
  {
   "cell_type": "markdown",
   "id": "e8e4b355",
   "metadata": {},
   "source": [
    "### 2. 수집할 사이트 확인하기\n",
    "---\n",
    "- 사이트 주소: [무신사 > 랭킹 > 브랜드 > 판매량 > 월간](https://www.musinsa.com/ranking/brand?period=month&age=ALL&mainCategory=&order=sales)\n",
    "\n",
    "![musinsa_best](https://ifh.cc/g/JO3Ov0.jpg)"
   ]
  },
  {
   "cell_type": "code",
   "execution_count": 4,
   "id": "7846874a",
   "metadata": {},
   "outputs": [],
   "source": [
    "#주요 라이브러리 호출하기\n",
    "\n",
    "import pandas as pd\n",
    "from bs4 import BeautifulSoup as bs\n",
    "import time\n",
    "from tqdm import tqdm"
   ]
  },
  {
   "cell_type": "code",
   "execution_count": 48,
   "id": "cff3780a",
   "metadata": {},
   "outputs": [],
   "source": [
    "#수집할 사이트 정보 가져오기\n",
    "\n",
    "app_name = \"musinsa\"\n",
    "url = \"https://www.musinsa.com/ranking/brand?period=month&age=ALL&mainCategory=&order=sales\"\n",
    "\n",
    "#table = pd.read_html(url)\n",
    "#실행결과 테이블이 없다는 것을 확인"
   ]
  },
  {
   "cell_type": "markdown",
   "id": "409dffb4",
   "metadata": {},
   "source": [
    "<b>이런 경우 `Requests`를 활용하게 됨 → 이를 활용하면 이미지, CSS파일 적용없이 소스코드만을 가져오게 됨\n",
    "- 우리가 수집하려는 페이지가 `get` 방식이기 때문에, 아래에서도 `requests.get`을 활용한다.\n",
    "- 실행했을 때 `<Response [200]>`이라는 결과값이 나오는데, 이는 `Headers`의 `Status Code`의 200과 동일한 의미로 잘 받았다는 의미다.\n",
    "\n",
    "\n",
    "이를 그냥 활용하기 어렵기 떄문에, 우리는 `beautifulsoup` 의 도움을 받게 된다."
   ]
  },
  {
   "cell_type": "code",
   "execution_count": 8,
   "id": "9a1b0618",
   "metadata": {},
   "outputs": [
    {
     "data": {
      "text/plain": [
       "200"
      ]
     },
     "execution_count": 8,
     "metadata": {},
     "output_type": "execute_result"
    }
   ],
   "source": [
    "import requests\n",
    "\n",
    "response = requests.get(url)\n",
    "response.status_code"
   ]
  },
  {
   "cell_type": "code",
   "execution_count": 61,
   "id": "15e42aed",
   "metadata": {
    "scrolled": true
   },
   "outputs": [],
   "source": [
    "from bs4 import BeautifulSoup as bs\n",
    "\n",
    "# Warning 메시지가 뜨는 경우, lxml을 지정해주면 사라짐\n",
    "# BeautifulSoup을 파싱할 때 lxml로 파싱해달라고 지정하는 옵션으로 보면됨\n",
    "html = bs(response.text, \"lxml\") #가독성이 개선됨"
   ]
  },
  {
   "cell_type": "code",
   "execution_count": 17,
   "id": "16dd76e5",
   "metadata": {},
   "outputs": [
    {
     "data": {
      "text/plain": [
       "'무신사 스탠다드'"
      ]
     },
     "execution_count": 17,
     "metadata": {},
     "output_type": "execute_result"
    }
   ],
   "source": [
    "brand_kr_html=html.select('div.li_inner > p.brand_name > a')\n",
    "brand_kr_html[0].string"
   ]
  },
  {
   "cell_type": "code",
   "execution_count": 18,
   "id": "10331f39",
   "metadata": {},
   "outputs": [
    {
     "data": {
      "text/plain": [
       "'musinsastandard'"
      ]
     },
     "execution_count": 18,
     "metadata": {},
     "output_type": "execute_result"
    }
   ],
   "source": [
    "brand_en_html=html.select('div.li_inner > p.brand_name_en > a')\n",
    "brand_en_html[0].string"
   ]
  },
  {
   "cell_type": "code",
   "execution_count": 59,
   "id": "f0708387",
   "metadata": {},
   "outputs": [],
   "source": [
    "brand_kor=[]\n",
    "for i in brand_kr_html:\n",
    "    brand_kor.append(i.string)"
   ]
  },
  {
   "cell_type": "code",
   "execution_count": 60,
   "id": "c704b23d",
   "metadata": {},
   "outputs": [],
   "source": [
    "brand_eng=[]\n",
    "for i in brand_en_html:\n",
    "    brand_eng.append(i.string)"
   ]
  },
  {
   "cell_type": "markdown",
   "id": "be9890fb",
   "metadata": {},
   "source": [
    "### 수집한 데이터를 하나의 데이터 프레임으로 합치기\n",
    "\n",
    "- `pd.concat` 기능을 활용해서 하나로 합칠 수 있음\n",
    "- (주의) 기간이 긴 데이터를 수집할 때는 서버에 부담을 주지 않기 위해 time.sleep() 값을 주게 된다."
   ]
  },
  {
   "cell_type": "code",
   "execution_count": 49,
   "id": "35ee123e",
   "metadata": {},
   "outputs": [
    {
     "data": {
      "text/html": [
       "<div>\n",
       "<style scoped>\n",
       "    .dataframe tbody tr th:only-of-type {\n",
       "        vertical-align: middle;\n",
       "    }\n",
       "\n",
       "    .dataframe tbody tr th {\n",
       "        vertical-align: top;\n",
       "    }\n",
       "\n",
       "    .dataframe thead th {\n",
       "        text-align: right;\n",
       "    }\n",
       "</style>\n",
       "<table border=\"1\" class=\"dataframe\">\n",
       "  <thead>\n",
       "    <tr style=\"text-align: right;\">\n",
       "      <th></th>\n",
       "      <th>app</th>\n",
       "      <th>rank</th>\n",
       "      <th>brand_kor</th>\n",
       "      <th>brand_eng</th>\n",
       "    </tr>\n",
       "  </thead>\n",
       "  <tbody>\n",
       "    <tr>\n",
       "      <th>0</th>\n",
       "      <td>musinsa</td>\n",
       "      <td>1</td>\n",
       "      <td>무신사스탠다드</td>\n",
       "      <td>musinsastandard</td>\n",
       "    </tr>\n",
       "    <tr>\n",
       "      <th>1</th>\n",
       "      <td>musinsa</td>\n",
       "      <td>2</td>\n",
       "      <td>아디다스</td>\n",
       "      <td>adidas</td>\n",
       "    </tr>\n",
       "    <tr>\n",
       "      <th>2</th>\n",
       "      <td>musinsa</td>\n",
       "      <td>3</td>\n",
       "      <td>토피</td>\n",
       "      <td>toffee</td>\n",
       "    </tr>\n",
       "    <tr>\n",
       "      <th>3</th>\n",
       "      <td>musinsa</td>\n",
       "      <td>4</td>\n",
       "      <td>예일</td>\n",
       "      <td>yale</td>\n",
       "    </tr>\n",
       "    <tr>\n",
       "      <th>4</th>\n",
       "      <td>musinsa</td>\n",
       "      <td>5</td>\n",
       "      <td>굿라이프웍스</td>\n",
       "      <td>glw</td>\n",
       "    </tr>\n",
       "    <tr>\n",
       "      <th>...</th>\n",
       "      <td>...</td>\n",
       "      <td>...</td>\n",
       "      <td>...</td>\n",
       "      <td>...</td>\n",
       "    </tr>\n",
       "    <tr>\n",
       "      <th>95</th>\n",
       "      <td>musinsa</td>\n",
       "      <td>96</td>\n",
       "      <td>슬로우애시드</td>\n",
       "      <td>slowacid</td>\n",
       "    </tr>\n",
       "    <tr>\n",
       "      <th>96</th>\n",
       "      <td>musinsa</td>\n",
       "      <td>97</td>\n",
       "      <td>예스아이씨</td>\n",
       "      <td>yeseyesee</td>\n",
       "    </tr>\n",
       "    <tr>\n",
       "      <th>97</th>\n",
       "      <td>musinsa</td>\n",
       "      <td>98</td>\n",
       "      <td>어반디타입</td>\n",
       "      <td>urbandtype</td>\n",
       "    </tr>\n",
       "    <tr>\n",
       "      <th>98</th>\n",
       "      <td>musinsa</td>\n",
       "      <td>99</td>\n",
       "      <td>어커버</td>\n",
       "      <td>acover</td>\n",
       "    </tr>\n",
       "    <tr>\n",
       "      <th>99</th>\n",
       "      <td>musinsa</td>\n",
       "      <td>100</td>\n",
       "      <td>엄브로</td>\n",
       "      <td>umbro</td>\n",
       "    </tr>\n",
       "  </tbody>\n",
       "</table>\n",
       "<p>100 rows × 4 columns</p>\n",
       "</div>"
      ],
      "text/plain": [
       "        app  rank brand_kor        brand_eng\n",
       "0   musinsa     1   무신사스탠다드  musinsastandard\n",
       "1   musinsa     2      아디다스           adidas\n",
       "2   musinsa     3        토피           toffee\n",
       "3   musinsa     4        예일             yale\n",
       "4   musinsa     5    굿라이프웍스              glw\n",
       "..      ...   ...       ...              ...\n",
       "95  musinsa    96    슬로우애시드         slowacid\n",
       "96  musinsa    97     예스아이씨        yeseyesee\n",
       "97  musinsa    98     어반디타입       urbandtype\n",
       "98  musinsa    99       어커버           acover\n",
       "99  musinsa   100       엄브로            umbro\n",
       "\n",
       "[100 rows x 4 columns]"
      ]
     },
     "execution_count": 49,
     "metadata": {},
     "output_type": "execute_result"
    }
   ],
   "source": [
    "df = pd.DataFrame({'brand_eng': brand_eng, 'brand_kor': brand_kor})\n",
    "\n",
    "#파생변수 생성하기\n",
    "df['rank'] = df.index + 1\n",
    "df['app'] = app_name\n",
    "\n",
    "#브랜드명에서 공백제거하기\n",
    "df['brand_kor'] = df['brand_kor'].str.replace(' ','')\n",
    "\n",
    "cols = ['app', 'rank', 'brand_kor', 'brand_eng']\n",
    "df = df[cols]\n",
    "df"
   ]
  },
  {
   "cell_type": "code",
   "execution_count": 45,
   "id": "16daf119",
   "metadata": {},
   "outputs": [
    {
     "data": {
      "text/html": [
       "<div>\n",
       "<style scoped>\n",
       "    .dataframe tbody tr th:only-of-type {\n",
       "        vertical-align: middle;\n",
       "    }\n",
       "\n",
       "    .dataframe tbody tr th {\n",
       "        vertical-align: top;\n",
       "    }\n",
       "\n",
       "    .dataframe thead th {\n",
       "        text-align: right;\n",
       "    }\n",
       "</style>\n",
       "<table border=\"1\" class=\"dataframe\">\n",
       "  <thead>\n",
       "    <tr style=\"text-align: right;\">\n",
       "      <th></th>\n",
       "      <th>app</th>\n",
       "      <th>rank</th>\n",
       "      <th>brand_kor</th>\n",
       "      <th>brand_eng</th>\n",
       "      <th>URL</th>\n",
       "    </tr>\n",
       "  </thead>\n",
       "  <tbody>\n",
       "    <tr>\n",
       "      <th>0</th>\n",
       "      <td>musinsa</td>\n",
       "      <td>1</td>\n",
       "      <td>무신사스탠다드</td>\n",
       "      <td>musinsastandard</td>\n",
       "      <td>store.musinsa.com</td>\n",
       "    </tr>\n",
       "    <tr>\n",
       "      <th>1</th>\n",
       "      <td>musinsa</td>\n",
       "      <td>2</td>\n",
       "      <td>아디다스</td>\n",
       "      <td>adidas</td>\n",
       "      <td>adidas.co.kr</td>\n",
       "    </tr>\n",
       "    <tr>\n",
       "      <th>2</th>\n",
       "      <td>musinsa</td>\n",
       "      <td>3</td>\n",
       "      <td>토피</td>\n",
       "      <td>toffee</td>\n",
       "      <td>toffee.co.kr</td>\n",
       "    </tr>\n",
       "    <tr>\n",
       "      <th>3</th>\n",
       "      <td>musinsa</td>\n",
       "      <td>4</td>\n",
       "      <td>예일</td>\n",
       "      <td>yale</td>\n",
       "      <td>boolaboola.co.kr</td>\n",
       "    </tr>\n",
       "    <tr>\n",
       "      <th>4</th>\n",
       "      <td>musinsa</td>\n",
       "      <td>5</td>\n",
       "      <td>굿라이프웍스</td>\n",
       "      <td>glw</td>\n",
       "      <td>goodlifeworks.co.kr</td>\n",
       "    </tr>\n",
       "    <tr>\n",
       "      <th>...</th>\n",
       "      <td>...</td>\n",
       "      <td>...</td>\n",
       "      <td>...</td>\n",
       "      <td>...</td>\n",
       "      <td>...</td>\n",
       "    </tr>\n",
       "    <tr>\n",
       "      <th>96</th>\n",
       "      <td>musinsa</td>\n",
       "      <td>96</td>\n",
       "      <td>슬로우애시드</td>\n",
       "      <td>slowacid</td>\n",
       "      <td>slowacid.com</td>\n",
       "    </tr>\n",
       "    <tr>\n",
       "      <th>97</th>\n",
       "      <td>musinsa</td>\n",
       "      <td>97</td>\n",
       "      <td>예스아이씨</td>\n",
       "      <td>yeseyesee</td>\n",
       "      <td>yeseyesee.com</td>\n",
       "    </tr>\n",
       "    <tr>\n",
       "      <th>98</th>\n",
       "      <td>musinsa</td>\n",
       "      <td>98</td>\n",
       "      <td>어반디타입</td>\n",
       "      <td>urbandtype</td>\n",
       "      <td>urbandtype.com</td>\n",
       "    </tr>\n",
       "    <tr>\n",
       "      <th>99</th>\n",
       "      <td>musinsa</td>\n",
       "      <td>99</td>\n",
       "      <td>어커버</td>\n",
       "      <td>acover</td>\n",
       "      <td>acover.co.kr</td>\n",
       "    </tr>\n",
       "    <tr>\n",
       "      <th>100</th>\n",
       "      <td>musinsa</td>\n",
       "      <td>100</td>\n",
       "      <td>엄브로</td>\n",
       "      <td>umbro</td>\n",
       "      <td>umbro.co.kr</td>\n",
       "    </tr>\n",
       "  </tbody>\n",
       "</table>\n",
       "<p>101 rows × 5 columns</p>\n",
       "</div>"
      ],
      "text/plain": [
       "         app  rank brand_kor        brand_eng                  URL\n",
       "0    musinsa     1   무신사스탠다드  musinsastandard    store.musinsa.com\n",
       "1    musinsa     2      아디다스           adidas         adidas.co.kr\n",
       "2    musinsa     3        토피           toffee         toffee.co.kr\n",
       "3    musinsa     4        예일             yale     boolaboola.co.kr\n",
       "4    musinsa     5    굿라이프웍스              glw  goodlifeworks.co.kr\n",
       "..       ...   ...       ...              ...                  ...\n",
       "96   musinsa    96    슬로우애시드         slowacid         slowacid.com\n",
       "97   musinsa    97     예스아이씨        yeseyesee        yeseyesee.com\n",
       "98   musinsa    98     어반디타입       urbandtype       urbandtype.com\n",
       "99   musinsa    99       어커버           acover         acover.co.kr\n",
       "100  musinsa   100       엄브로            umbro          umbro.co.kr\n",
       "\n",
       "[101 rows x 5 columns]"
      ]
     },
     "execution_count": 45,
     "metadata": {},
     "output_type": "execute_result"
    }
   ],
   "source": [
    "brand_list = pd.read_csv('brand_hosting_archive.csv')\n",
    "\n",
    "#수집된 데이터에 LEFT JOIN\n",
    "merged_df = pd.merge(df, brand_list, how='left', left_on='brand_kor', right_on='brand_KR')\n",
    "merged_df = merged_df.drop(['brand_EN', 'brand_KR'], axis=1)\n",
    "\n",
    "merged_df"
   ]
  },
  {
   "cell_type": "markdown",
   "id": "f8632b7a",
   "metadata": {},
   "source": [
    "### 데이터 전처리하기 및 EDA\n",
    "\n",
    "- 중복 입력된 브랜드 필터링\n",
    "- 사이트 주소 없는 브랜드 확인하기"
   ]
  },
  {
   "cell_type": "code",
   "execution_count": 41,
   "id": "43c11b0b",
   "metadata": {},
   "outputs": [
    {
     "name": "stdout",
     "output_type": "stream",
     "text": [
      "[]\n"
     ]
    }
   ],
   "source": [
    "#중복입력된 브랜드 필터링\n",
    "# merged_df에서 rank 값이 2개 이상 같은 row 선택\n",
    "duplicated_ranks = merged_df[merged_df['rank'].duplicated(keep=False)]\n",
    "\n",
    "# duplicated_ranks에서 brand_kor 컬럼의 값을 출력\n",
    "print(duplicated_ranks['brand_kor'].unique())"
   ]
  },
  {
   "cell_type": "code",
   "execution_count": 47,
   "id": "53dd76a0",
   "metadata": {},
   "outputs": [],
   "source": [
    "# URL 열의 글자 수 계산하여 새로운 열 추가하기\n",
    "merged_df[\"URL_length\"] = merged_df[\"URL\"].str.len()\n",
    "\n",
    "# URL_length가 3 이하인 경우의 brand_KR 출력하기\n",
    "for index, row in merged_df.iterrows():\n",
    "    if row[\"URL_length\"] <= 3:\n",
    "        print(row[\"brand_KR\"])"
   ]
  },
  {
   "cell_type": "code",
   "execution_count": 55,
   "id": "4d9aeaed",
   "metadata": {},
   "outputs": [],
   "source": [
    "merged_df = merged_df.drop(['URL_length'], axis=1)"
   ]
  },
  {
   "cell_type": "code",
   "execution_count": 56,
   "id": "0a901d97",
   "metadata": {},
   "outputs": [],
   "source": [
    "import datetime\n",
    "\n",
    "# 오늘 날짜 구하기\n",
    "today = datetime.date.today()\n",
    "\n",
    "# YYYY-MM-DD 형태의 문자열로 변환\n",
    "today_str = today.strftime('%Y-%m-%d')"
   ]
  },
  {
   "cell_type": "code",
   "execution_count": 57,
   "id": "f474cc27",
   "metadata": {},
   "outputs": [
    {
     "data": {
      "text/plain": [
       "'musinsa_2023-03-30.csv'"
      ]
     },
     "execution_count": 57,
     "metadata": {},
     "output_type": "execute_result"
    }
   ],
   "source": [
    "file_name = f\"{app_name}_{today_str}.csv\"\n",
    "file_name"
   ]
  },
  {
   "cell_type": "code",
   "execution_count": 58,
   "id": "45c587b2",
   "metadata": {},
   "outputs": [
    {
     "data": {
      "text/html": [
       "<div>\n",
       "<style scoped>\n",
       "    .dataframe tbody tr th:only-of-type {\n",
       "        vertical-align: middle;\n",
       "    }\n",
       "\n",
       "    .dataframe tbody tr th {\n",
       "        vertical-align: top;\n",
       "    }\n",
       "\n",
       "    .dataframe thead th {\n",
       "        text-align: right;\n",
       "    }\n",
       "</style>\n",
       "<table border=\"1\" class=\"dataframe\">\n",
       "  <thead>\n",
       "    <tr style=\"text-align: right;\">\n",
       "      <th></th>\n",
       "      <th>app</th>\n",
       "      <th>rank</th>\n",
       "      <th>brand_kor</th>\n",
       "      <th>brand_eng</th>\n",
       "      <th>URL</th>\n",
       "    </tr>\n",
       "  </thead>\n",
       "  <tbody>\n",
       "    <tr>\n",
       "      <th>0</th>\n",
       "      <td>musinsa</td>\n",
       "      <td>1</td>\n",
       "      <td>무신사스탠다드</td>\n",
       "      <td>musinsastandard</td>\n",
       "      <td>store.musinsa.com</td>\n",
       "    </tr>\n",
       "    <tr>\n",
       "      <th>1</th>\n",
       "      <td>musinsa</td>\n",
       "      <td>2</td>\n",
       "      <td>아디다스</td>\n",
       "      <td>adidas</td>\n",
       "      <td>adidas.co.kr</td>\n",
       "    </tr>\n",
       "    <tr>\n",
       "      <th>2</th>\n",
       "      <td>musinsa</td>\n",
       "      <td>3</td>\n",
       "      <td>토피</td>\n",
       "      <td>toffee</td>\n",
       "      <td>toffee.co.kr</td>\n",
       "    </tr>\n",
       "    <tr>\n",
       "      <th>3</th>\n",
       "      <td>musinsa</td>\n",
       "      <td>4</td>\n",
       "      <td>예일</td>\n",
       "      <td>yale</td>\n",
       "      <td>boolaboola.co.kr</td>\n",
       "    </tr>\n",
       "    <tr>\n",
       "      <th>4</th>\n",
       "      <td>musinsa</td>\n",
       "      <td>5</td>\n",
       "      <td>굿라이프웍스</td>\n",
       "      <td>glw</td>\n",
       "      <td>goodlifeworks.co.kr</td>\n",
       "    </tr>\n",
       "    <tr>\n",
       "      <th>...</th>\n",
       "      <td>...</td>\n",
       "      <td>...</td>\n",
       "      <td>...</td>\n",
       "      <td>...</td>\n",
       "      <td>...</td>\n",
       "    </tr>\n",
       "    <tr>\n",
       "      <th>96</th>\n",
       "      <td>musinsa</td>\n",
       "      <td>96</td>\n",
       "      <td>슬로우애시드</td>\n",
       "      <td>slowacid</td>\n",
       "      <td>slowacid.com</td>\n",
       "    </tr>\n",
       "    <tr>\n",
       "      <th>97</th>\n",
       "      <td>musinsa</td>\n",
       "      <td>97</td>\n",
       "      <td>예스아이씨</td>\n",
       "      <td>yeseyesee</td>\n",
       "      <td>yeseyesee.com</td>\n",
       "    </tr>\n",
       "    <tr>\n",
       "      <th>98</th>\n",
       "      <td>musinsa</td>\n",
       "      <td>98</td>\n",
       "      <td>어반디타입</td>\n",
       "      <td>urbandtype</td>\n",
       "      <td>urbandtype.com</td>\n",
       "    </tr>\n",
       "    <tr>\n",
       "      <th>99</th>\n",
       "      <td>musinsa</td>\n",
       "      <td>99</td>\n",
       "      <td>어커버</td>\n",
       "      <td>acover</td>\n",
       "      <td>acover.co.kr</td>\n",
       "    </tr>\n",
       "    <tr>\n",
       "      <th>100</th>\n",
       "      <td>musinsa</td>\n",
       "      <td>100</td>\n",
       "      <td>엄브로</td>\n",
       "      <td>umbro</td>\n",
       "      <td>umbro.co.kr</td>\n",
       "    </tr>\n",
       "  </tbody>\n",
       "</table>\n",
       "<p>101 rows × 5 columns</p>\n",
       "</div>"
      ],
      "text/plain": [
       "         app  rank brand_kor        brand_eng                  URL\n",
       "0    musinsa     1   무신사스탠다드  musinsastandard    store.musinsa.com\n",
       "1    musinsa     2      아디다스           adidas         adidas.co.kr\n",
       "2    musinsa     3        토피           toffee         toffee.co.kr\n",
       "3    musinsa     4        예일             yale     boolaboola.co.kr\n",
       "4    musinsa     5    굿라이프웍스              glw  goodlifeworks.co.kr\n",
       "..       ...   ...       ...              ...                  ...\n",
       "96   musinsa    96    슬로우애시드         slowacid         slowacid.com\n",
       "97   musinsa    97     예스아이씨        yeseyesee        yeseyesee.com\n",
       "98   musinsa    98     어반디타입       urbandtype       urbandtype.com\n",
       "99   musinsa    99       어커버           acover         acover.co.kr\n",
       "100  musinsa   100       엄브로            umbro          umbro.co.kr\n",
       "\n",
       "[101 rows x 5 columns]"
      ]
     },
     "execution_count": 58,
     "metadata": {},
     "output_type": "execute_result"
    }
   ],
   "source": [
    "merged_df.to_csv(file_name, index=False)\n",
    "pd.read_csv(file_name)"
   ]
  }
 ],
 "metadata": {
  "kernelspec": {
   "display_name": "Python 3 (ipykernel)",
   "language": "python",
   "name": "python3"
  },
  "language_info": {
   "codemirror_mode": {
    "name": "ipython",
    "version": 3
   },
   "file_extension": ".py",
   "mimetype": "text/x-python",
   "name": "python",
   "nbconvert_exporter": "python",
   "pygments_lexer": "ipython3",
   "version": "3.9.12"
  }
 },
 "nbformat": 4,
 "nbformat_minor": 5
}
