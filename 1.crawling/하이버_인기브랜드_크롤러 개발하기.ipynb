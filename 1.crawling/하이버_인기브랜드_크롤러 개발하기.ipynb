{
 "cells": [
  {
   "cell_type": "markdown",
   "id": "36253ad7",
   "metadata": {},
   "source": [
    "# 하이버 인기브랜드 크롤러 개발하기\n",
    "---\n",
    "### 1. 필수 라이브러리 설치하기\n",
    "#### (1) request 라이브러리 설치\n",
    "- Anaconda Cloud의 작은 브라우저 역할을 하게됨\n",
    "- 특정 웹사이트에서 html에서 소스코드를 그대로 가져와서 반환해주는 역할을 하게됨\n",
    "- `conda install -c anaconda requests`\n",
    "\n",
    "#### (2) BeautifulSoup 라이브러리 설치\n",
    "- html 페이지에서 원하는 형태를 찾는 것에 도움이 됨\n",
    "- `conda install -c anaconda beautifulsoup4`\n",
    "\n",
    "#### (3) tqdm 라이브러리 설치\n",
    "- 작업에 대한 상태를 확인할 때 유용\n",
    "- `conda install -c conda-forge tqdm`\n",
    "\n",
    "#### 윈도우에서 conda 라이브러리를 통해 위 항목을 설치하도록 한다.\n",
    "- 아나콘다 prompt를 열어주는데, 설치할 때 관리자권한으로 설치하는 것을 권장\n",
    "- Anaconda Prompt를 관리자 권한으로 실행해야함\n",
    "- 새로운 가상환경을 만들지 않았다면 (base)라는 문구가 터미널에서 보여야 정상"
   ]
  },
  {
   "cell_type": "markdown",
   "id": "e8e4b355",
   "metadata": {},
   "source": [
    "### 2. 수집할 사이트 확인하기\n",
    "---\n",
    "- 사이트 주소: [하이버 > 랭킹 > 브랜드 > 월간](https://www.hiver.co.kr/ranking?id=296&order=monthly)\n",
    "\n",
    "![hiver_best](https://ifh.cc/g/KR8tAK.jpg)"
   ]
  },
  {
   "cell_type": "code",
   "execution_count": 1,
   "id": "7846874a",
   "metadata": {},
   "outputs": [],
   "source": [
    "#주요 라이브러리 호출하기\n",
    "\n",
    "import pandas as pd\n",
    "from bs4 import BeautifulSoup as bs\n",
    "import time\n",
    "from tqdm import tqdm"
   ]
  },
  {
   "cell_type": "code",
   "execution_count": 2,
   "id": "cff3780a",
   "metadata": {},
   "outputs": [],
   "source": [
    "#수집할 사이트 정보 가져오기\n",
    "\n",
    "app_name = \"하이버\"\n",
    "url = \"https://www.hiver.co.kr/ranking?id=296&order=monthly\"\n",
    "\n",
    "#table = pd.read_html(url)\n",
    "#실행결과 테이블이 없다는 것을 확인"
   ]
  },
  {
   "cell_type": "markdown",
   "id": "409dffb4",
   "metadata": {},
   "source": [
    "<b>이런 경우 `Requests`를 활용하게 됨 → 이를 활용하면 이미지, CSS파일 적용없이 소스코드만을 가져오게 됨\n",
    "- 우리가 수집하려는 페이지가 `get` 방식이기 때문에, 아래에서도 `requests.get`을 활용한다.\n",
    "- 실행했을 때 `<Response [200]>`이라는 결과값이 나오는데, 이는 `Headers`의 `Status Code`의 200과 동일한 의미로 잘 받았다는 의미다.\n",
    "\n",
    "\n",
    "이를 그냥 활용하기 어렵기 떄문에, 우리는 `beautifulsoup` 의 도움을 받게 된다."
   ]
  },
  {
   "cell_type": "code",
   "execution_count": 4,
   "id": "9a1b0618",
   "metadata": {},
   "outputs": [
    {
     "data": {
      "text/plain": [
       "200"
      ]
     },
     "execution_count": 4,
     "metadata": {},
     "output_type": "execute_result"
    }
   ],
   "source": [
    "import requests\n",
    "\n",
    "response = requests.get(url)\n",
    "response.status_code"
   ]
  },
  {
   "cell_type": "code",
   "execution_count": 5,
   "id": "15e42aed",
   "metadata": {
    "scrolled": true
   },
   "outputs": [],
   "source": [
    "from bs4 import BeautifulSoup as bs\n",
    "\n",
    "# Warning 메시지가 뜨는 경우, lxml을 지정해주면 사라짐\n",
    "# BeautifulSoup을 파싱할 때 lxml로 파싱해달라고 지정하는 옵션으로 보면됨\n",
    "html = bs(response.text, \"lxml\")"
   ]
  },
  {
   "cell_type": "markdown",
   "id": "1205996f",
   "metadata": {},
   "source": [
    "- 확인한 결과, 보안으로 `Beautifulsoup`을 통해 소스코드에서 상품명을 가져오는 것이 불가능한 상황\n",
    "- 따라서 이 경우에는 `Selenium`을 활용해서 작업할 수 있도록 한다.\n",
    "\n",
    "#### Selenium 설치하기\n",
    "- `selenium`과 `webdriver_manager`를 설치해준다."
   ]
  },
  {
   "cell_type": "raw",
   "id": "cc4658d6",
   "metadata": {},
   "source": [
    "pip install selenium"
   ]
  },
  {
   "cell_type": "raw",
   "id": "d8350538",
   "metadata": {},
   "source": [
    "pip install webdriver_manager"
   ]
  },
  {
   "cell_type": "code",
   "execution_count": 7,
   "id": "e4b3edf7",
   "metadata": {},
   "outputs": [
    {
     "data": {
      "text/plain": [
       "'4.8.3'"
      ]
     },
     "execution_count": 7,
     "metadata": {},
     "output_type": "execute_result"
    }
   ],
   "source": [
    "import selenium\n",
    "selenium.__version__"
   ]
  },
  {
   "cell_type": "code",
   "execution_count": 8,
   "id": "dbc7fb04",
   "metadata": {},
   "outputs": [
    {
     "data": {
      "text/plain": [
       "'3.8.5'"
      ]
     },
     "execution_count": 8,
     "metadata": {},
     "output_type": "execute_result"
    }
   ],
   "source": [
    "import webdriver_manager\n",
    "webdriver_manager.__version__"
   ]
  },
  {
   "cell_type": "code",
   "execution_count": 9,
   "id": "d8f3a87c",
   "metadata": {},
   "outputs": [
    {
     "name": "stderr",
     "output_type": "stream",
     "text": [
      "C:\\Users\\win10_original\\AppData\\Local\\Temp\\ipykernel_12504\\128688385.py:3: DeprecationWarning: executable_path has been deprecated, please pass in a Service object\n",
      "  driver = webdriver.Chrome('C:/Users/win10_original/Desktop/chrome_driver/chromedriver')\n"
     ]
    }
   ],
   "source": [
    "from selenium import webdriver\n",
    "\n",
    "driver = webdriver.Chrome('C:/Users/win10_original/Desktop/chrome_driver/chromedriver')\n",
    "driver.implicitly_wait(10)\n",
    "driver.get(url)"
   ]
  },
  {
   "cell_type": "code",
   "execution_count": 10,
   "id": "254448c2",
   "metadata": {},
   "outputs": [
    {
     "name": "stdout",
     "output_type": "stream",
     "text": [
      "블론드나인\n"
     ]
    }
   ],
   "source": [
    "from selenium.webdriver.common.by import By\n",
    "\n",
    "html_comments = driver.find_elements(By.CSS_SELECTOR, \".css-c1cgl.e1c07x489\") #이거는 실패\n",
    "element = driver.find_element(By.XPATH, '//*[@id=\"container\"]/div[2]/section[2]/div[1]/a/div/div[2]/div/strong')\n",
    "element = driver.find_element(By.XPATH, '//*[@id=\"container\"]/div[2]/section[2]/div[2]/a/div/div[2]/div/strong')\n",
    "\n",
    "\n",
    "print(element.text)"
   ]
  },
  {
   "cell_type": "code",
   "execution_count": 14,
   "id": "7afdd0e6",
   "metadata": {},
   "outputs": [],
   "source": [
    "# 수집한 데이터를 저장할 리스트를 생성합니다.\n",
    "elements = []\n",
    "ranks = []\n",
    "\n",
    "# 초기 페이지를 설정합니다.\n",
    "url = \"https://www.hiver.co.kr/ranking?id=296&order=monthly\"\n",
    "driver.get(url)\n",
    "driver.implicitly_wait(10)\n",
    "\n",
    "# 페이지를 순차적으로 이동하며 element를 수집합니다.\n",
    "\n",
    "for i in range(1, 101):\n",
    "    rank = i\n",
    "    xpath = f'//*[@id=\"container\"]/div[2]/section[2]/div[{i}]/a/div/div[2]/div/strong'\n",
    "    element = driver.find_element(By.XPATH, xpath)\n",
    "    elements.append(element.text)\n",
    "    ranks.append(rank)\n",
    "\n",
    "# 데이터프레임을 생성합니다.\n",
    "brand_df = pd.DataFrame({'Rank': ranks, 'Item': elements})"
   ]
  },
  {
   "cell_type": "code",
   "execution_count": 15,
   "id": "96d11deb",
   "metadata": {},
   "outputs": [],
   "source": [
    "# 수집한 데이터를 저장할 리스트를 생성합니다.\n",
    "elements = []\n",
    "ranks = []\n",
    "\n",
    "# 초기 페이지를 설정합니다.\n",
    "url = \"https://www.hiver.co.kr/ranking?id=416&order=monthly\"\n",
    "driver.get(url)\n",
    "driver.implicitly_wait(10)\n",
    "\n",
    "# 페이지를 순차적으로 이동하며 element를 수집합니다.\n",
    "\n",
    "for i in range(1, 101):\n",
    "    rank = i\n",
    "    xpath = f'//*[@id=\"container\"]/div[2]/section[2]/div[{i}]/a/div/div[2]/div/strong'\n",
    "    element = driver.find_element(By.XPATH, xpath)\n",
    "    elements.append(element.text)\n",
    "    ranks.append(rank)\n",
    "\n",
    "# 데이터프레임을 생성합니다.\n",
    "shopping_df = pd.DataFrame({'Rank': ranks, 'Item': elements})"
   ]
  },
  {
   "cell_type": "code",
   "execution_count": 20,
   "id": "4baf7141",
   "metadata": {
    "scrolled": true
   },
   "outputs": [
    {
     "data": {
      "text/html": [
       "<div>\n",
       "<style scoped>\n",
       "    .dataframe tbody tr th:only-of-type {\n",
       "        vertical-align: middle;\n",
       "    }\n",
       "\n",
       "    .dataframe tbody tr th {\n",
       "        vertical-align: top;\n",
       "    }\n",
       "\n",
       "    .dataframe thead th {\n",
       "        text-align: right;\n",
       "    }\n",
       "</style>\n",
       "<table border=\"1\" class=\"dataframe\">\n",
       "  <thead>\n",
       "    <tr style=\"text-align: right;\">\n",
       "      <th></th>\n",
       "      <th>Rank</th>\n",
       "      <th>Item</th>\n",
       "    </tr>\n",
       "  </thead>\n",
       "  <tbody>\n",
       "    <tr>\n",
       "      <th>0</th>\n",
       "      <td>1</td>\n",
       "      <td>블론드나인</td>\n",
       "    </tr>\n",
       "    <tr>\n",
       "      <th>1</th>\n",
       "      <td>2</td>\n",
       "      <td>엑스컨테이너</td>\n",
       "    </tr>\n",
       "    <tr>\n",
       "      <th>2</th>\n",
       "      <td>3</td>\n",
       "      <td>엑스컨테이너</td>\n",
       "    </tr>\n",
       "    <tr>\n",
       "      <th>3</th>\n",
       "      <td>4</td>\n",
       "      <td>앨빈클로</td>\n",
       "    </tr>\n",
       "    <tr>\n",
       "      <th>4</th>\n",
       "      <td>5</td>\n",
       "      <td>그랜디오시티</td>\n",
       "    </tr>\n",
       "    <tr>\n",
       "      <th>...</th>\n",
       "      <td>...</td>\n",
       "      <td>...</td>\n",
       "    </tr>\n",
       "    <tr>\n",
       "      <th>95</th>\n",
       "      <td>96</td>\n",
       "      <td>유얼마인드</td>\n",
       "    </tr>\n",
       "    <tr>\n",
       "      <th>96</th>\n",
       "      <td>97</td>\n",
       "      <td>에이치</td>\n",
       "    </tr>\n",
       "    <tr>\n",
       "      <th>97</th>\n",
       "      <td>98</td>\n",
       "      <td>베이직바이블</td>\n",
       "    </tr>\n",
       "    <tr>\n",
       "      <th>98</th>\n",
       "      <td>99</td>\n",
       "      <td>르위</td>\n",
       "    </tr>\n",
       "    <tr>\n",
       "      <th>99</th>\n",
       "      <td>100</td>\n",
       "      <td>제타22</td>\n",
       "    </tr>\n",
       "  </tbody>\n",
       "</table>\n",
       "<p>200 rows × 2 columns</p>\n",
       "</div>"
      ],
      "text/plain": [
       "    Rank    Item\n",
       "0      1   블론드나인\n",
       "1      2  엑스컨테이너\n",
       "2      3  엑스컨테이너\n",
       "3      4    앨빈클로\n",
       "4      5  그랜디오시티\n",
       "..   ...     ...\n",
       "95    96   유얼마인드\n",
       "96    97     에이치\n",
       "97    98  베이직바이블\n",
       "98    99      르위\n",
       "99   100    제타22\n",
       "\n",
       "[200 rows x 2 columns]"
      ]
     },
     "execution_count": 20,
     "metadata": {},
     "output_type": "execute_result"
    }
   ],
   "source": [
    "df_concat = pd.concat([brand_df, shopping_df], axis=0)\n",
    "df_concat"
   ]
  },
  {
   "cell_type": "markdown",
   "id": "be9890fb",
   "metadata": {},
   "source": [
    "### 수집한 데이터를 하나의 데이터 프레임으로 합치기\n",
    "\n",
    "- `pd.concat` 기능을 활용해서 하나로 합칠 수 있음\n",
    "- (주의) 기간이 긴 데이터를 수집할 때는 서버에 부담을 주지 않기 위해 time.sleep() 값을 주게 된다."
   ]
  },
  {
   "cell_type": "code",
   "execution_count": 21,
   "id": "35ee123e",
   "metadata": {},
   "outputs": [
    {
     "data": {
      "text/html": [
       "<div>\n",
       "<style scoped>\n",
       "    .dataframe tbody tr th:only-of-type {\n",
       "        vertical-align: middle;\n",
       "    }\n",
       "\n",
       "    .dataframe tbody tr th {\n",
       "        vertical-align: top;\n",
       "    }\n",
       "\n",
       "    .dataframe thead th {\n",
       "        text-align: right;\n",
       "    }\n",
       "</style>\n",
       "<table border=\"1\" class=\"dataframe\">\n",
       "  <thead>\n",
       "    <tr style=\"text-align: right;\">\n",
       "      <th></th>\n",
       "      <th>app</th>\n",
       "      <th>Rank</th>\n",
       "      <th>brand_KR</th>\n",
       "    </tr>\n",
       "  </thead>\n",
       "  <tbody>\n",
       "    <tr>\n",
       "      <th>0</th>\n",
       "      <td>하이버</td>\n",
       "      <td>1</td>\n",
       "      <td>블론드나인</td>\n",
       "    </tr>\n",
       "    <tr>\n",
       "      <th>1</th>\n",
       "      <td>하이버</td>\n",
       "      <td>2</td>\n",
       "      <td>엑스컨테이너</td>\n",
       "    </tr>\n",
       "    <tr>\n",
       "      <th>2</th>\n",
       "      <td>하이버</td>\n",
       "      <td>3</td>\n",
       "      <td>엑스컨테이너</td>\n",
       "    </tr>\n",
       "    <tr>\n",
       "      <th>3</th>\n",
       "      <td>하이버</td>\n",
       "      <td>4</td>\n",
       "      <td>앨빈클로</td>\n",
       "    </tr>\n",
       "    <tr>\n",
       "      <th>4</th>\n",
       "      <td>하이버</td>\n",
       "      <td>5</td>\n",
       "      <td>그랜디오시티</td>\n",
       "    </tr>\n",
       "    <tr>\n",
       "      <th>...</th>\n",
       "      <td>...</td>\n",
       "      <td>...</td>\n",
       "      <td>...</td>\n",
       "    </tr>\n",
       "    <tr>\n",
       "      <th>95</th>\n",
       "      <td>하이버</td>\n",
       "      <td>96</td>\n",
       "      <td>유얼마인드</td>\n",
       "    </tr>\n",
       "    <tr>\n",
       "      <th>96</th>\n",
       "      <td>하이버</td>\n",
       "      <td>97</td>\n",
       "      <td>에이치</td>\n",
       "    </tr>\n",
       "    <tr>\n",
       "      <th>97</th>\n",
       "      <td>하이버</td>\n",
       "      <td>98</td>\n",
       "      <td>베이직바이블</td>\n",
       "    </tr>\n",
       "    <tr>\n",
       "      <th>98</th>\n",
       "      <td>하이버</td>\n",
       "      <td>99</td>\n",
       "      <td>르위</td>\n",
       "    </tr>\n",
       "    <tr>\n",
       "      <th>99</th>\n",
       "      <td>하이버</td>\n",
       "      <td>100</td>\n",
       "      <td>제타22</td>\n",
       "    </tr>\n",
       "  </tbody>\n",
       "</table>\n",
       "<p>200 rows × 3 columns</p>\n",
       "</div>"
      ],
      "text/plain": [
       "    app  Rank brand_KR\n",
       "0   하이버     1    블론드나인\n",
       "1   하이버     2   엑스컨테이너\n",
       "2   하이버     3   엑스컨테이너\n",
       "3   하이버     4     앨빈클로\n",
       "4   하이버     5   그랜디오시티\n",
       "..  ...   ...      ...\n",
       "95  하이버    96    유얼마인드\n",
       "96  하이버    97      에이치\n",
       "97  하이버    98   베이직바이블\n",
       "98  하이버    99       르위\n",
       "99  하이버   100     제타22\n",
       "\n",
       "[200 rows x 3 columns]"
      ]
     },
     "execution_count": 21,
     "metadata": {},
     "output_type": "execute_result"
    }
   ],
   "source": [
    "#파생변수 생성하기\n",
    "df_concat['app'] = app_name\n",
    "\n",
    "#브랜드명에서 공백제거하기\n",
    "df_concat['brand_KR'] = df_concat['Item'].str.replace(' ','')\n",
    "\n",
    "cols = ['app', 'Rank', 'brand_KR']\n",
    "df_concat = df_concat[cols]\n",
    "df_concat"
   ]
  },
  {
   "cell_type": "code",
   "execution_count": 22,
   "id": "16daf119",
   "metadata": {},
   "outputs": [
    {
     "data": {
      "text/html": [
       "<div>\n",
       "<style scoped>\n",
       "    .dataframe tbody tr th:only-of-type {\n",
       "        vertical-align: middle;\n",
       "    }\n",
       "\n",
       "    .dataframe tbody tr th {\n",
       "        vertical-align: top;\n",
       "    }\n",
       "\n",
       "    .dataframe thead th {\n",
       "        text-align: right;\n",
       "    }\n",
       "</style>\n",
       "<table border=\"1\" class=\"dataframe\">\n",
       "  <thead>\n",
       "    <tr style=\"text-align: right;\">\n",
       "      <th></th>\n",
       "      <th>app</th>\n",
       "      <th>Rank</th>\n",
       "      <th>brand_KR</th>\n",
       "      <th>brand_EN</th>\n",
       "      <th>URL</th>\n",
       "    </tr>\n",
       "  </thead>\n",
       "  <tbody>\n",
       "    <tr>\n",
       "      <th>0</th>\n",
       "      <td>하이버</td>\n",
       "      <td>1</td>\n",
       "      <td>블론드나인</td>\n",
       "      <td>BLOND9</td>\n",
       "      <td>blond9.com</td>\n",
       "    </tr>\n",
       "    <tr>\n",
       "      <th>1</th>\n",
       "      <td>하이버</td>\n",
       "      <td>2</td>\n",
       "      <td>엑스컨테이너</td>\n",
       "      <td>EXCONTAINER</td>\n",
       "      <td>excontainer.co.kr</td>\n",
       "    </tr>\n",
       "    <tr>\n",
       "      <th>2</th>\n",
       "      <td>하이버</td>\n",
       "      <td>3</td>\n",
       "      <td>엑스컨테이너</td>\n",
       "      <td>EXCONTAINER</td>\n",
       "      <td>excontainer.co.kr</td>\n",
       "    </tr>\n",
       "    <tr>\n",
       "      <th>3</th>\n",
       "      <td>하이버</td>\n",
       "      <td>4</td>\n",
       "      <td>앨빈클로</td>\n",
       "      <td>ALVINCLO</td>\n",
       "      <td>alvinclo.co.kr</td>\n",
       "    </tr>\n",
       "    <tr>\n",
       "      <th>4</th>\n",
       "      <td>하이버</td>\n",
       "      <td>5</td>\n",
       "      <td>그랜디오시티</td>\n",
       "      <td>GRANDIOSITY</td>\n",
       "      <td>list.hiphoper.combrand/GRANDIOSITY</td>\n",
       "    </tr>\n",
       "    <tr>\n",
       "      <th>...</th>\n",
       "      <td>...</td>\n",
       "      <td>...</td>\n",
       "      <td>...</td>\n",
       "      <td>...</td>\n",
       "      <td>...</td>\n",
       "    </tr>\n",
       "    <tr>\n",
       "      <th>215</th>\n",
       "      <td>하이버</td>\n",
       "      <td>96</td>\n",
       "      <td>유얼마인드</td>\n",
       "      <td>NaN</td>\n",
       "      <td>NaN</td>\n",
       "    </tr>\n",
       "    <tr>\n",
       "      <th>216</th>\n",
       "      <td>하이버</td>\n",
       "      <td>97</td>\n",
       "      <td>에이치</td>\n",
       "      <td>NaN</td>\n",
       "      <td>NaN</td>\n",
       "    </tr>\n",
       "    <tr>\n",
       "      <th>217</th>\n",
       "      <td>하이버</td>\n",
       "      <td>98</td>\n",
       "      <td>베이직바이블</td>\n",
       "      <td>NaN</td>\n",
       "      <td>NaN</td>\n",
       "    </tr>\n",
       "    <tr>\n",
       "      <th>218</th>\n",
       "      <td>하이버</td>\n",
       "      <td>99</td>\n",
       "      <td>르위</td>\n",
       "      <td>NaN</td>\n",
       "      <td>NaN</td>\n",
       "    </tr>\n",
       "    <tr>\n",
       "      <th>219</th>\n",
       "      <td>하이버</td>\n",
       "      <td>100</td>\n",
       "      <td>제타22</td>\n",
       "      <td>NaN</td>\n",
       "      <td>NaN</td>\n",
       "    </tr>\n",
       "  </tbody>\n",
       "</table>\n",
       "<p>220 rows × 5 columns</p>\n",
       "</div>"
      ],
      "text/plain": [
       "     app  Rank brand_KR     brand_EN                                 URL\n",
       "0    하이버     1    블론드나인       BLOND9                          blond9.com\n",
       "1    하이버     2   엑스컨테이너  EXCONTAINER                   excontainer.co.kr\n",
       "2    하이버     3   엑스컨테이너  EXCONTAINER                   excontainer.co.kr\n",
       "3    하이버     4     앨빈클로     ALVINCLO                      alvinclo.co.kr\n",
       "4    하이버     5   그랜디오시티  GRANDIOSITY  list.hiphoper.combrand/GRANDIOSITY\n",
       "..   ...   ...      ...          ...                                 ...\n",
       "215  하이버    96    유얼마인드          NaN                                 NaN\n",
       "216  하이버    97      에이치          NaN                                 NaN\n",
       "217  하이버    98   베이직바이블          NaN                                 NaN\n",
       "218  하이버    99       르위          NaN                                 NaN\n",
       "219  하이버   100     제타22          NaN                                 NaN\n",
       "\n",
       "[220 rows x 5 columns]"
      ]
     },
     "execution_count": 22,
     "metadata": {},
     "output_type": "execute_result"
    }
   ],
   "source": [
    "brand_list = pd.read_csv('brand_hosting_archive.csv')\n",
    "\n",
    "#수집된 데이터에 LEFT JOIN\n",
    "merged_df = pd.merge(df_concat, brand_list, how='left', left_on='brand_KR', right_on='brand_KR')\n",
    "#merged_df = merged_df.drop(['brand_EN', 'brand_KR'], axis=1)\n",
    "\n",
    "merged_df"
   ]
  },
  {
   "cell_type": "code",
   "execution_count": 26,
   "id": "c4db71f5",
   "metadata": {},
   "outputs": [
    {
     "data": {
      "text/plain": [
       "array(['코드스탠다드', '어웨이크', '에스이에스티', '에즈카톤', '프롬에이투비', '모노포스', '독보남',\n",
       "       '플레이마틴', '그레이즈', '자비노', '피피옴므', '블루트', '히코튼', '에밀리에', '르위', '마인드핏',\n",
       "       '미스터제이슨', '노컴플렉스', '이룰', '상드르', '자시가', '스토리지', '큐쓰', '업노멀', '캔노멀',\n",
       "       '베이직바이블', '플로우스푼', '위노드', '헤일로샵', '탑보이', '비비탄', '치트키', '제타22',\n",
       "       '밸류젯', '우모르', '나뽀', '맨즈셀렉터', '척도', '주포유', '디스페로', '아이디에프', '엽옷이오',\n",
       "       '톰엔래빗', '투아미고', '프롬엘', '뉴트렉션', '웨이든', '맨즈델리', '맨인스토어', '오오룩',\n",
       "       '로댄티', '제로스샵', '덕션', '아일랜드모던', '준간', '초이스로', '블랑토', '유얼마인드', '에이치'],\n",
       "      dtype=object)"
      ]
     },
     "execution_count": 26,
     "metadata": {},
     "output_type": "execute_result"
    }
   ],
   "source": [
    "#개별몰 주소가 확인되지 않은 브랜드 목록\n",
    "\n",
    "condition = merged_df['URL'].isnull()\n",
    "result = merged_df.loc[condition, 'brand_KR'].unique()\n",
    "result"
   ]
  },
  {
   "cell_type": "markdown",
   "id": "f8632b7a",
   "metadata": {},
   "source": [
    "### 데이터 전처리하기 및 EDA\n",
    "\n",
    "- 중복 입력된 브랜드 필터링\n",
    "- 사이트 주소 없는 브랜드 확인하기"
   ]
  },
  {
   "cell_type": "code",
   "execution_count": 27,
   "id": "0a901d97",
   "metadata": {},
   "outputs": [],
   "source": [
    "import datetime\n",
    "\n",
    "# 오늘 날짜 구하기\n",
    "today = datetime.date.today()\n",
    "\n",
    "# YYYY-MM-DD 형태의 문자열로 변환\n",
    "today_str = today.strftime('%Y-%m-%d')"
   ]
  },
  {
   "cell_type": "code",
   "execution_count": 28,
   "id": "f474cc27",
   "metadata": {},
   "outputs": [
    {
     "data": {
      "text/plain": [
       "'하이버_2023-04-07.csv'"
      ]
     },
     "execution_count": 28,
     "metadata": {},
     "output_type": "execute_result"
    }
   ],
   "source": [
    "file_name = f\"{app_name}_{today_str}.csv\"\n",
    "file_name"
   ]
  },
  {
   "cell_type": "code",
   "execution_count": 29,
   "id": "45c587b2",
   "metadata": {},
   "outputs": [
    {
     "data": {
      "text/html": [
       "<div>\n",
       "<style scoped>\n",
       "    .dataframe tbody tr th:only-of-type {\n",
       "        vertical-align: middle;\n",
       "    }\n",
       "\n",
       "    .dataframe tbody tr th {\n",
       "        vertical-align: top;\n",
       "    }\n",
       "\n",
       "    .dataframe thead th {\n",
       "        text-align: right;\n",
       "    }\n",
       "</style>\n",
       "<table border=\"1\" class=\"dataframe\">\n",
       "  <thead>\n",
       "    <tr style=\"text-align: right;\">\n",
       "      <th></th>\n",
       "      <th>app</th>\n",
       "      <th>Rank</th>\n",
       "      <th>brand_KR</th>\n",
       "      <th>brand_EN</th>\n",
       "      <th>URL</th>\n",
       "    </tr>\n",
       "  </thead>\n",
       "  <tbody>\n",
       "    <tr>\n",
       "      <th>0</th>\n",
       "      <td>하이버</td>\n",
       "      <td>1</td>\n",
       "      <td>블론드나인</td>\n",
       "      <td>BLOND9</td>\n",
       "      <td>blond9.com</td>\n",
       "    </tr>\n",
       "    <tr>\n",
       "      <th>1</th>\n",
       "      <td>하이버</td>\n",
       "      <td>2</td>\n",
       "      <td>엑스컨테이너</td>\n",
       "      <td>EXCONTAINER</td>\n",
       "      <td>excontainer.co.kr</td>\n",
       "    </tr>\n",
       "    <tr>\n",
       "      <th>2</th>\n",
       "      <td>하이버</td>\n",
       "      <td>3</td>\n",
       "      <td>엑스컨테이너</td>\n",
       "      <td>EXCONTAINER</td>\n",
       "      <td>excontainer.co.kr</td>\n",
       "    </tr>\n",
       "    <tr>\n",
       "      <th>3</th>\n",
       "      <td>하이버</td>\n",
       "      <td>4</td>\n",
       "      <td>앨빈클로</td>\n",
       "      <td>ALVINCLO</td>\n",
       "      <td>alvinclo.co.kr</td>\n",
       "    </tr>\n",
       "    <tr>\n",
       "      <th>4</th>\n",
       "      <td>하이버</td>\n",
       "      <td>5</td>\n",
       "      <td>그랜디오시티</td>\n",
       "      <td>GRANDIOSITY</td>\n",
       "      <td>list.hiphoper.combrand/GRANDIOSITY</td>\n",
       "    </tr>\n",
       "    <tr>\n",
       "      <th>...</th>\n",
       "      <td>...</td>\n",
       "      <td>...</td>\n",
       "      <td>...</td>\n",
       "      <td>...</td>\n",
       "      <td>...</td>\n",
       "    </tr>\n",
       "    <tr>\n",
       "      <th>215</th>\n",
       "      <td>하이버</td>\n",
       "      <td>96</td>\n",
       "      <td>유얼마인드</td>\n",
       "      <td>NaN</td>\n",
       "      <td>NaN</td>\n",
       "    </tr>\n",
       "    <tr>\n",
       "      <th>216</th>\n",
       "      <td>하이버</td>\n",
       "      <td>97</td>\n",
       "      <td>에이치</td>\n",
       "      <td>NaN</td>\n",
       "      <td>NaN</td>\n",
       "    </tr>\n",
       "    <tr>\n",
       "      <th>217</th>\n",
       "      <td>하이버</td>\n",
       "      <td>98</td>\n",
       "      <td>베이직바이블</td>\n",
       "      <td>NaN</td>\n",
       "      <td>NaN</td>\n",
       "    </tr>\n",
       "    <tr>\n",
       "      <th>218</th>\n",
       "      <td>하이버</td>\n",
       "      <td>99</td>\n",
       "      <td>르위</td>\n",
       "      <td>NaN</td>\n",
       "      <td>NaN</td>\n",
       "    </tr>\n",
       "    <tr>\n",
       "      <th>219</th>\n",
       "      <td>하이버</td>\n",
       "      <td>100</td>\n",
       "      <td>제타22</td>\n",
       "      <td>NaN</td>\n",
       "      <td>NaN</td>\n",
       "    </tr>\n",
       "  </tbody>\n",
       "</table>\n",
       "<p>220 rows × 5 columns</p>\n",
       "</div>"
      ],
      "text/plain": [
       "     app  Rank brand_KR     brand_EN                                 URL\n",
       "0    하이버     1    블론드나인       BLOND9                          blond9.com\n",
       "1    하이버     2   엑스컨테이너  EXCONTAINER                   excontainer.co.kr\n",
       "2    하이버     3   엑스컨테이너  EXCONTAINER                   excontainer.co.kr\n",
       "3    하이버     4     앨빈클로     ALVINCLO                      alvinclo.co.kr\n",
       "4    하이버     5   그랜디오시티  GRANDIOSITY  list.hiphoper.combrand/GRANDIOSITY\n",
       "..   ...   ...      ...          ...                                 ...\n",
       "215  하이버    96    유얼마인드          NaN                                 NaN\n",
       "216  하이버    97      에이치          NaN                                 NaN\n",
       "217  하이버    98   베이직바이블          NaN                                 NaN\n",
       "218  하이버    99       르위          NaN                                 NaN\n",
       "219  하이버   100     제타22          NaN                                 NaN\n",
       "\n",
       "[220 rows x 5 columns]"
      ]
     },
     "execution_count": 29,
     "metadata": {},
     "output_type": "execute_result"
    }
   ],
   "source": [
    "merged_df.to_csv(file_name, index=False)\n",
    "pd.read_csv(file_name)"
   ]
  }
 ],
 "metadata": {
  "kernelspec": {
   "display_name": "Python 3 (ipykernel)",
   "language": "python",
   "name": "python3"
  },
  "language_info": {
   "codemirror_mode": {
    "name": "ipython",
    "version": 3
   },
   "file_extension": ".py",
   "mimetype": "text/x-python",
   "name": "python",
   "nbconvert_exporter": "python",
   "pygments_lexer": "ipython3",
   "version": "3.9.12"
  }
 },
 "nbformat": 4,
 "nbformat_minor": 5
}
